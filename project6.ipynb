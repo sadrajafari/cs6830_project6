{
 "cells": [
  {
   "cell_type": "markdown",
   "metadata": {},
   "source": [
    "# Linear Regression (Project 6)"
   ]
  },
  {
   "cell_type": "code",
   "execution_count": null,
   "metadata": {},
   "outputs": [],
   "source": [
    "import pandas as pd\n",
    "import seaborn as sns\n",
    "import matplotlib.pyplot as plt\n",
    "from sklearn.linear_model import LinearRegression\n",
    "import statsmodels.formula.api as smf\n",
    "import random\n",
    "from sklearn.model_selection import train_test_split\n",
    "from sklearn.preprocessing import OneHotEncoder\n",
    "from sklearn.metrics import mean_squared_error, r2_score\n",
    "from sklearn.model_selection import KFold\n",
    "import numpy as np"
   ]
  },
  {
   "cell_type": "code",
   "execution_count": null,
   "metadata": {},
   "outputs": [],
   "source": [
    "data = pd.read_csv(\"RRCA_baseflow.csv\")\n",
    "data"
   ]
  },
  {
   "cell_type": "markdown",
   "metadata": {},
   "source": [
    "#### Removing rows if they have NaN values"
   ]
  },
  {
   "cell_type": "code",
   "execution_count": null,
   "metadata": {},
   "outputs": [],
   "source": [
    "data = data.dropna()\n",
    "data"
   ]
  },
  {
   "cell_type": "markdown",
   "metadata": {},
   "source": [
    "#### It does not look to have any NaN values"
   ]
  },
  {
   "cell_type": "markdown",
   "metadata": {},
   "source": [
    "### Adding new date features like year, months, and seasons"
   ]
  },
  {
   "cell_type": "code",
   "execution_count": null,
   "metadata": {},
   "outputs": [],
   "source": [
    "##### Subtracting 693963 from Data column to make it from 01-01-1900\n",
    "data[\"Date\"] = data[\"Date\"] - 693963\n",
    "data['Date'] = pd.to_datetime(data.Date, unit='D', origin=pd.Timestamp('1900-01-01'))\n",
    "\n",
    "data['year'] = data.Date.dt.year\n",
    "data['month'] = data.Date.dt.month\n",
    "data['day'] = data.Date.dt.day\n",
    "\n",
    "display(data)"
   ]
  },
  {
   "cell_type": "markdown",
   "metadata": {},
   "source": [
    "### We will use day and month for Defining seasons"
   ]
  },
  {
   "cell_type": "markdown",
   "metadata": {},
   "source": [
    "### Defining seasons as well"
   ]
  },
  {
   "cell_type": "code",
   "execution_count": null,
   "metadata": {},
   "outputs": [],
   "source": [
    "def get_season(month, day):\n",
    "    if (month == 3 and day >= 20) or (month == 4) or (month == 5) or (month == 6 and day < 21):\n",
    "        return 'Spring'\n",
    "    elif (month == 6 and day >= 21) or (month == 7) or (month == 8) or (month == 9 and day < 23):\n",
    "        return 'Summer'\n",
    "    elif (month == 9 and day >= 23) or (month == 10) or (month == 11) or (month == 12 and day < 21):\n",
    "        return 'Fall'\n",
    "    else:\n",
    "        return 'Winter'\n",
    "\n",
    "data['season'] = data.apply(lambda row: get_season(row['month'], row['day']), axis=1)\n",
    "\n",
    "data"
   ]
  },
  {
   "cell_type": "markdown",
   "metadata": {},
   "source": [
    "## Applying One-Hot-Encoding for using in making the model"
   ]
  },
  {
   "cell_type": "markdown",
   "metadata": {},
   "source": [
    "\n",
    "##### Also, to make the model simpler we just use `season`. Therefore, we remove `year, month, day, and Date` columns"
   ]
  },
  {
   "cell_type": "markdown",
   "metadata": {},
   "source": [
    "#### We removed month and day because we used them in creating the new column named `season`"
   ]
  },
  {
   "cell_type": "markdown",
   "metadata": {},
   "source": [
    "#### This part is for creating our model!"
   ]
  },
  {
   "cell_type": "code",
   "execution_count": null,
   "metadata": {},
   "outputs": [],
   "source": [
    "encoder = OneHotEncoder()\n",
    "\n",
    "OneHot = encoder.fit_transform(data[[\"Segment_id\", \"season\"]])\n",
    "one_hot_feature_names = encoder.get_feature_names_out(['Segment_id', \"season\"])\n",
    "one_hot_df = pd.DataFrame(OneHot.toarray(), columns=one_hot_feature_names)\n",
    "data_encoded = pd.concat([data, one_hot_df], axis=1)\n",
    "data_for_models = data_encoded.drop(columns=[\"Segment_id\", \"Date\", \"year\", \"day\", \"season\", \"month\"])\n",
    "data_for_models"
   ]
  },
  {
   "cell_type": "markdown",
   "metadata": {},
   "source": [
    "### Mean Baseflow over seasons"
   ]
  },
  {
   "cell_type": "code",
   "execution_count": null,
   "metadata": {},
   "outputs": [],
   "source": [
    "barData = data.groupby([\"season\"]).agg({\"Observed\": \"mean\"}).reset_index()\n",
    "sns.barplot(data=barData, x=\"season\", y=\"Observed\", order=[\"Spring\", \"Summer\", \"Fall\", \"Winter\"])\n",
    "plt.xlabel(\"Seasons\")\n",
    "plt.ylabel(\"Baseflow\")\n",
    "plt.title(\"Baseflow in different seasons\")"
   ]
  },
  {
   "cell_type": "markdown",
   "metadata": {},
   "source": [
    "##### Looks summer in average was the most dry one"
   ]
  },
  {
   "cell_type": "markdown",
   "metadata": {},
   "source": [
    "### Precipitation vs Irrigation pumping"
   ]
  },
  {
   "cell_type": "code",
   "execution_count": null,
   "metadata": {},
   "outputs": [],
   "source": [
    "# fig, axs = plt.subplots(1, 2, figsize=(12, 3))\n",
    "precipitationData = data.groupby([\"year\"]).agg({\"Precipitation\": \"sum\", \"Irrigation_pumping\": \"sum\"}).reset_index()\n",
    "sns.lineplot(y=\"Precipitation\", x=\"year\", data=precipitationData)\n",
    "plt.title(\"Sum of Precipitation overs years\")\n",
    "plt.show()\n",
    "sns.lineplot(y=\"Irrigation_pumping\", x=\"year\", data=precipitationData)\n",
    "plt.title(\"Sum of Irrigation pumping overs years\")\n",
    "plt.show()\n"
   ]
  },
  {
   "cell_type": "markdown",
   "metadata": {},
   "source": [
    "#### Looks Irrigation increased when Precipitation decreased over years"
   ]
  },
  {
   "cell_type": "markdown",
   "metadata": {},
   "source": [
    "### Location of Baseflow observed"
   ]
  },
  {
   "cell_type": "code",
   "execution_count": null,
   "metadata": {},
   "outputs": [],
   "source": [
    "sns.scatterplot(x=\"x\", y=\"y\", data=data, s=data[\"Observed\"])\n",
    "plt.xlabel(\"X\")\n",
    "plt.ylabel(\"y\", rotation=60)\n",
    "plt.title(\"Location\") \n",
    "top_observed = data.groupby(['x', 'y']).apply(lambda x: x.nlargest(1, 'Observed')).reset_index(drop=True)\n",
    "\n",
    "# Sort by 'Observed' in descending order to get the top 2 different (x, y) coordinates with the highest values in 'Observed'\n",
    "top_2_observed = top_observed.nlargest(2, 'Observed')\n",
    "display(top_2_observed)\n"
   ]
  },
  {
   "cell_type": "markdown",
   "metadata": {},
   "source": [
    "### The top 2 locations were observed with their data info"
   ]
  },
  {
   "cell_type": "markdown",
   "metadata": {},
   "source": [
    "## Finding the unique values of the segments"
   ]
  },
  {
   "cell_type": "code",
   "execution_count": null,
   "metadata": {},
   "outputs": [],
   "source": [
    "segments = data[\"Segment_id\"].unique()\n",
    "segments"
   ]
  },
  {
   "cell_type": "markdown",
   "metadata": {},
   "source": [
    "#### Baseflow in different segment_id over years"
   ]
  },
  {
   "cell_type": "code",
   "execution_count": null,
   "metadata": {},
   "outputs": [],
   "source": [
    "for seg in segments:\n",
    "    plt.scatter(x=data[data.Segment_id == seg].year, y=data[data.Segment_id == seg].Observed)\n",
    "# data.plot(kind=\"scatter\", x=\"year\", y=\"Observed\")\n",
    "plt.xlabel(\"Year\")\n",
    "plt.ylabel(\"Observed\")\n",
    "plt.title(\"Observed Baseflow over years\")"
   ]
  },
  {
   "cell_type": "code",
   "execution_count": null,
   "metadata": {},
   "outputs": [],
   "source": [
    "for seg in segments:\n",
    "    plt.scatter(x=data[data.Segment_id == seg].Evapotranspiration, y=data[data.Segment_id == seg].Observed)\n",
    "plt.xlabel(\"Evapotranspiration\")\n",
    "plt.ylabel(\"Observed\")\n",
    "plt.title(\"Evapotranspiration vs Observed baseflow\")    "
   ]
  },
  {
   "cell_type": "markdown",
   "metadata": {},
   "source": [
    "##### It does not give us a good view so we have to test it in different segments"
   ]
  },
  {
   "cell_type": "code",
   "execution_count": null,
   "metadata": {},
   "outputs": [],
   "source": [
    "for seg in segments:\n",
    "    plt.scatter(x=data[data.Segment_id == seg].Precipitation, y=data[data.Segment_id == seg].Observed)\n",
    "plt.xlabel(\"Precipitation\")\n",
    "plt.ylabel(\"Observed\")\n",
    "plt.title(\"Precipitation vs Observed baseflow\")"
   ]
  },
  {
   "cell_type": "markdown",
   "metadata": {},
   "source": [
    "#### We need to test this one in different segments as well because it does not give us valuable information"
   ]
  },
  {
   "cell_type": "markdown",
   "metadata": {},
   "source": [
    "#### Applying regression line on chart"
   ]
  },
  {
   "cell_type": "code",
   "execution_count": null,
   "metadata": {},
   "outputs": [],
   "source": [
    "for seg in segments:\n",
    "    plt.scatter(x=data[data.Segment_id == seg].Irrigation_pumping, y=data[data.Segment_id == seg].Observed)\n",
    "    \n",
    "X = data_for_models[[\"Irrigation_pumping\"]]\n",
    "y = data_for_models[\"Observed\"]\n",
    "\n",
    "X_train, X_test, y_train, y_test = train_test_split(\n",
    "    X, y, test_size=0.2\n",
    ")\n",
    "lgModel = LinearRegression().fit(X_train, y_train)\n",
    "preds = lgModel.predict(X_test)\n",
    "plt.plot(X_test, preds, c='black', linewidth=3)\n",
    "plt.xlabel(\"Irrigation_pumping\")\n",
    "plt.ylabel(\"Observed\")\n",
    "plt.title(\"Irrigation_pumping vs baseflow applied regression line\")\n",
    "plt.show()\n",
    "print(f\"Intercept: {lgModel.intercept_}\")\n",
    "print(f\"Coef: {lgModel.coef_}\")\n",
    "print(f\"R-Squared: {lgModel.score(X, y)}\")"
   ]
  },
  {
   "cell_type": "markdown",
   "metadata": {},
   "source": [
    "#### It looks that by increasing irrigation pumping the baseflow decreses but to make sure we will test it in different segments\n",
    "#### And only this feature is not suitable for creating the model and we need to use other features as well."
   ]
  },
  {
   "cell_type": "markdown",
   "metadata": {},
   "source": [
    "## Irrigation pumping over time"
   ]
  },
  {
   "cell_type": "code",
   "execution_count": null,
   "metadata": {},
   "outputs": [],
   "source": [
    "for seg in segments:\n",
    "    plt.scatter(x=data[data.Segment_id == seg].year, y=data[data.Segment_id == seg].Irrigation_pumping)\n",
    "plt.xlabel(\"Year\")\n",
    "plt.ylabel(\"Irrigation_pumping\")\n",
    "plt.title(\"Irrigation_pumping over years\")"
   ]
  },
  {
   "cell_type": "markdown",
   "metadata": {},
   "source": [
    "#### Looks pumping increased over the time"
   ]
  },
  {
   "cell_type": "markdown",
   "metadata": {},
   "source": [
    "#### Seed defined to have the same result from selection in every runs"
   ]
  },
  {
   "cell_type": "markdown",
   "metadata": {},
   "source": [
    "### Randomly selected segments to check out the correlations instead of checking all the segments"
   ]
  },
  {
   "cell_type": "code",
   "execution_count": null,
   "metadata": {},
   "outputs": [],
   "source": [
    "random_seed = 5\n",
    "random.seed(random_seed)\n",
    "random_segments = random.sample(list(segments), 12)\n",
    "print(random_segments)"
   ]
  },
  {
   "cell_type": "markdown",
   "metadata": {},
   "source": [
    "#### Check if there is any correlation between randomly selected segments in Evapotranspiration vs observed baseflow"
   ]
  },
  {
   "cell_type": "code",
   "execution_count": null,
   "metadata": {},
   "outputs": [],
   "source": [
    "fig, axs = plt.subplots(3, 4, figsize=(14, 8))\n",
    "j = 0\n",
    "k = 0\n",
    "for seg in (random_segments):\n",
    "  sns.regplot(x=data[data.Segment_id == seg].Evapotranspiration, y=data[data.Segment_id == seg].Observed, ax=axs[j, k], line_kws={\"color\": \"red\"})\n",
    "  # axs[j, k].scatter(x=data[data.Segment_id == seg].Evapotranspiration, y=data[data.Segment_id == seg].Observed)\n",
    "  axs[j, k].set_title(f\"Segment {seg}\", fontsize=15)\n",
    "  axs[j, k].set_xlim(-1, 13)\n",
    "  axs[j, k].set_ylim(-15, 150)\n",
    "  k += 1\n",
    "  if k == 4:\n",
    "    j += 1\n",
    "    k = 0\n",
    "        \n",
    "for ax in axs.flat:\n",
    "  ax.set_xlabel(\"Evapotranspiration\", fontsize=15)\n",
    "  ax.set_ylabel(\"Baseflow\", fontsize=16)\n",
    "\n",
    "for ax in fig.get_axes():\n",
    "  ax.label_outer()\n",
    "fig.suptitle(\"Different segments Evapotranspiration vs observed baseflow\", fontsize=16)\n",
    "plt.show()"
   ]
  },
  {
   "cell_type": "markdown",
   "metadata": {},
   "source": [
    "##### Sounds by increasing Evapotranspiration the baseflow decreases"
   ]
  },
  {
   "cell_type": "markdown",
   "metadata": {},
   "source": [
    "#### Check if there is any correlation between randomly selected segments in Irrigation_pumping vs observed baseflow"
   ]
  },
  {
   "cell_type": "code",
   "execution_count": null,
   "metadata": {},
   "outputs": [],
   "source": [
    "fig, axs = plt.subplots(3, 4, figsize=(14, 8), sharex=True, sharey=True)\n",
    "j = 0\n",
    "k = 0\n",
    "for seg in (random_segments):\n",
    "  sns.regplot(x=data[data.Segment_id == seg].Irrigation_pumping, y=data[data.Segment_id == seg].Observed, ax=axs[j, k], line_kws={\"color\": \"red\"})\n",
    "    # axs[j, k].scatter(x=data[data.Segment_id == seg].Irrigation_pumping, y=data[data.Segment_id == seg].Observed)\n",
    "  axs[j, k].set_title(f\"Segment {seg}\", fontsize=15)\n",
    "    # axs[j, k].set_xlim(-5, 1)\n",
    "  axs[j, k].set_ylim(-15, 150)\n",
    "  k += 1\n",
    "  if k == 4:\n",
    "      j += 1\n",
    "      k = 0\n",
    "        \n",
    "for ax in axs.flat:\n",
    "  # ax.set(xlabel=\"Irrigation_pumping\", ylabel=\"observed baseflow\")\n",
    "  ax.set_xlabel(\"Irrigation_pumping\", fontsize=15)\n",
    "  ax.set_ylabel(\"Baseflow\", fontsize=16)\n",
    "\n",
    "for ax in fig.get_axes():\n",
    "  ax.label_outer()\n",
    "fig.suptitle(\"Different segments Irrigation_pumping vs observed baseflow\", fontsize=16)\n",
    "plt.show()"
   ]
  },
  {
   "cell_type": "markdown",
   "metadata": {},
   "source": [
    "#### Sounds by increasing (negative value means pumping out here means increasing pumping) irrigation pumping the basefolw decreases"
   ]
  },
  {
   "cell_type": "markdown",
   "metadata": {},
   "source": [
    "#### Check if there is any correlation between randomly selected segments in Precipitation vs observed baseflow"
   ]
  },
  {
   "cell_type": "code",
   "execution_count": null,
   "metadata": {},
   "outputs": [],
   "source": [
    "fig, axs = plt.subplots(3, 4, figsize=(14, 8), sharex=True, sharey=True)\n",
    "j = 0\n",
    "k = 0\n",
    "for seg in (random_segments):\n",
    "  sns.regplot(x=data[data.Segment_id == seg].Precipitation, y=data[data.Segment_id == seg].Observed, ax=axs[j, k], line_kws={\"color\": \"red\"})\n",
    "  # axs[j, k].scatter(x=data[data.Segment_id == seg].Precipitation, y=data[data.Segment_id == seg].Observed)\n",
    "  axs[j, k].set_title(f\"Segment {seg}\", fontsize=14)\n",
    "  axs[j, k].set_ylim(-15, 100)\n",
    "  k += 1\n",
    "  if k == 4:\n",
    "      j += 1\n",
    "      k = 0\n",
    "        \n",
    "for ax in axs.flat:\n",
    "  # ax.set(xlabel=\"Precipitation\", ylabel=\"observed baseflow\")\n",
    "  ax.set_xlabel(\"Precipitation\", fontsize=15)\n",
    "  ax.set_ylabel(\"Baseflow\", fontsize=16)\n",
    "\n",
    "for ax in fig.get_axes():\n",
    "  ax.label_outer()\n",
    "fig.suptitle(\"Different segments Precipitation vs observed baseflow\", fontsize=16)\n",
    "plt.show()"
   ]
  },
  {
   "cell_type": "code",
   "execution_count": null,
   "metadata": {},
   "outputs": [],
   "source": [
    "data_for_models"
   ]
  },
  {
   "cell_type": "markdown",
   "metadata": {},
   "source": [
    "## Creating Linear Regression model and applying 10-fold cross-validation with all features"
   ]
  },
  {
   "cell_type": "code",
   "execution_count": null,
   "metadata": {},
   "outputs": [],
   "source": [
    "model = LinearRegression()\n",
    "\n",
    "kf = KFold(n_splits=10, shuffle=True, random_state=42)\n",
    "\n",
    "X = data_for_models.drop(columns=[\"Observed\"])\n",
    "y = data_for_models[\"Observed\"]\n",
    "\n",
    "intercepts = []\n",
    "coefficients = []\n",
    "mse_scores = []\n",
    "r_squared = []\n",
    "i = 1\n",
    "print(\"--------------------------\")\n",
    "for train_index, test_index in kf.split(X):\n",
    "    X_train, X_test = X.iloc[train_index], X.iloc[test_index]\n",
    "    y_train, y_test = y.iloc[train_index], y.iloc[test_index]\n",
    "    \n",
    "    model.fit(X_train, y_train)\n",
    "    \n",
    "    y_pred = model.predict(X_test)\n",
    "    mse = mean_squared_error(y_test, y_pred)\n",
    "    mse_scores.append(mse)\n",
    "    \n",
    "    intercepts.append(model.intercept_)\n",
    "    coefficients.append(model.coef_)\n",
    "    r_squared.append(r2_score(y_test, y_pred))\n",
    "    print(f\"R-Squared in fold {i}: {r2_score(y_test, y_pred)}\")\n",
    "    i += 1\n",
    "\n",
    "\n",
    "print(\"--------------------------\")\n",
    "intercepts = np.array(intercepts)\n",
    "coefficients = np.array(coefficients)\n",
    "\n",
    "\n",
    "print(\"Mean CV R-Squared:\", np.mean(r_squared))\n",
    "print(\"Mean CV MSE:\", np.mean(mse_scores))\n",
    "\n",
    "\n",
    "print(\"Mean Intercept:\", np.mean(intercepts))\n",
    "print(\"------------------------------------\")\n",
    "print(\"This is the mean of the coefficient of all the features\")\n",
    "print(\"Mean Coefficients:\", np.mean(coefficients, axis=0))"
   ]
  },
  {
   "cell_type": "markdown",
   "metadata": {},
   "source": [
    "### Using all the features for making the model (did not use Cross-Validation)"
   ]
  },
  {
   "cell_type": "code",
   "execution_count": null,
   "metadata": {},
   "outputs": [],
   "source": [
    "init = 'Observed ~ '\n",
    "columns = data_for_models.columns\n",
    "for i in range(len(data_for_models.columns)):\n",
    "    if data_for_models.columns[i] != \"Observed\":\n",
    "        init += data_for_models.columns[i]\n",
    "        if i != len(data_for_models.columns) - 1:\n",
    "            init += \" + \"\n",
    "lm = smf.ols(formula=init, data=data_for_models).fit()\n",
    "display(f\"R-squared: {lm.rsquared}\")\n",
    "display(lm.params)\n",
    "display(lm.summary())"
   ]
  }
 ],
 "metadata": {
  "kernelspec": {
   "display_name": "Python 3",
   "language": "python",
   "name": "python3"
  },
  "language_info": {
   "codemirror_mode": {
    "name": "ipython",
    "version": 3
   },
   "file_extension": ".py",
   "mimetype": "text/x-python",
   "name": "python",
   "nbconvert_exporter": "python",
   "pygments_lexer": "ipython3",
   "version": "3.11.1"
  }
 },
 "nbformat": 4,
 "nbformat_minor": 2
}
